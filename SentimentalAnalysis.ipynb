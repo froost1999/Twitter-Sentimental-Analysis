{
 "cells": [
  {
   "cell_type": "code",
   "execution_count": 11,
   "metadata": {
    "scrolled": true
   },
   "outputs": [
    {
     "name": "stdout",
     "output_type": "stream",
     "text": [
      "Enter The Keyword:Nisarg\n",
      "Positive tweets percentage: 26.923076923076923 %\n",
      "Negative tweets percentage: 9.615384615384615 %\n",
      "Neutral tweets percentage: 63.46153846153846 %\n",
      "Pie-Chart representation:\n",
      "\n"
     ]
    },
    {
     "data": {
      "image/png": "[encoded data removed]",
      "text/plain": [
       "<Figure size 432x288 with 1 Axes>"
      ]
     },
     "metadata": {},
     "output_type": "display_data"
    },
    {
     "data": {
      "text/plain": [
       "<Figure size 432x288 with 0 Axes>"
      ]
     },
     "metadata": {},
     "output_type": "display_data"
    }
   ],
   "source": [
    "import re \n",
    "import tweepy \n",
    "from tweepy import OAuthHandler \n",
    "from textblob import TextBlob \n",
    "import matplotlib.pyplot as plt\n",
    "query = input(\"Enter The Keyword:\")\n",
    "\n",
    "class TwitterClient(object): \n",
    "\n",
    "\tdef __init__(self): \n",
    "\n",
    "\t\tconsumer_key = 'Hi0hmJvJcUUxmtl0XL5tp0mjG'\n",
    "\t\tconsumer_secret = 'ce2U4Czd05cKJpURhhCwVqACoW7u27wfcYvbE4fESPQdt0NMq7'\n",
    "\t\taccess_token = '707077794455429120-WB1PlMIomZOXkS4kB6gz0itt76ETlnc'\n",
    "\t\taccess_token_secret = 'XY0JoWthhpg6bWZ6zsgiQHKEJkx0TtjEaZuNjUiyV1umb'\n",
    "\n",
    "\t\ttry: \n",
    "\t\t\tself.auth = OAuthHandler(consumer_key, consumer_secret) \n",
    "\t\t\tself.auth.set_access_token(access_token, access_token_secret) \n",
    "\t\t\tself.api = tweepy.API(self.auth) \n",
    "\t\texcept: \n",
    "\t\t\tprint(\"Error: Authentication Failed\") \n",
    "\n",
    "\tdef clean_tweet(self, tweet): \n",
    "\n",
    "\t\treturn ' '.join(re.sub(\"(@[A-Za-z0-9]+)|([^0-9A-Za-z \\t])|(\\w+:\\/\\/\\S+)\", \" \", tweet).split()) \n",
    "\n",
    "\tdef get_tweet_sentiment(self, tweet): \n",
    "\n",
    "\t\tanalysis = TextBlob(self.clean_tweet(tweet)) \n",
    "\n",
    "\t\tif analysis.sentiment.polarity > 0: \n",
    "\t\t\treturn 'positive'\n",
    "\t\telif analysis.sentiment.polarity == 0: \n",
    "\t\t\treturn 'neutral'\n",
    "\t\telse: \n",
    "\t\t\treturn 'negative'\n",
    "\n",
    "\tdef get_tweets(self, query, count = 10): \n",
    "\n",
    "\t\ttweets = [] \n",
    "\n",
    "\t\ttry: \n",
    "\n",
    "\t\t\tfetched_tweets = self.api.search(q = query, count = count) \n",
    "\t\t\tfor tweet in fetched_tweets: \n",
    "\n",
    "\t\t\t\tparsed_tweet = {} \n",
    "\t\t\t\tparsed_tweet['text'] = tweet.text \n",
    "\t\t\t\tparsed_tweet['sentiment'] = self.get_tweet_sentiment(tweet.text) \n",
    "\n",
    "\t\t\t\tif tweet.retweet_count > 0: \n",
    "\t\t\t\t\tif parsed_tweet not in tweets: \n",
    "\t\t\t\t\t\ttweets.append(parsed_tweet) \n",
    "\t\t\t\telse: \n",
    "\t\t\t\t\ttweets.append(parsed_tweet) \n",
    "\n",
    "\t\t\treturn tweets \n",
    "\n",
    "\t\texcept tweepy.TweepError as e: \n",
    "\t\t\tprint(\"Error : \" + str(e)) \n",
    "\n",
    "def main(): \n",
    "\n",
    "\tapi = TwitterClient() \n",
    "\ttweets = api.get_tweets(query, count = 500) \n",
    "\n",
    "\n",
    "\tptweets = [tweet for tweet in tweets if tweet['sentiment'] == 'positive']  \n",
    "\tprint(\"Positive tweets percentage: {} %\".format(100*len(ptweets)/len(tweets))) \n",
    "\tntweets = [tweet for tweet in tweets if tweet['sentiment'] == 'negative'] \n",
    "\tprint(\"Negative tweets percentage: {} %\".format(100*len(ntweets)/len(tweets))) \n",
    "\tprint(\"Neutral tweets percentage: {} %\".format(100*(len(tweets) - len(ntweets) - len(ptweets))/len(tweets))) \n",
    "\tptweetspie=100*len(ptweets)/len(tweets)\n",
    "\tntweetspie=100*len(ntweets)/len(tweets)\n",
    "\tneutraltweetspie = 100*(len(tweets) - len(ntweets) - len(ptweets))/len(tweets)\n",
    "\tsizes = [ptweetspie, ntweetspie, neutraltweetspie]\n",
    "\tlabels = 'Positive Tweets', 'Negative Tweets', 'Neutral Tweets'\n",
    "\texplode = (0, 0.1, 0.1)\n",
    "\tfig1, ax1 = plt.subplots()\n",
    "\tax1.pie(sizes, explode=explode, labels=labels, autopct='%1.1f%%',\n",
    "        shadow=True, startangle=90)\n",
    "\tax1.axis('equal')  \n",
    "\tprint(\"Pie-Chart representation:\\n\")\n",
    "\tplt.show()\n",
    "\tplt.savefig('pie.jpeg')\n",
    "\n",
    "if __name__ == \"__main__\": \n",
    "\n",
    "\tmain() \n",
    "    \n",
    "    \n",
    "    \n"
   ]
  },
  {
   "cell_type": "code",
   "execution_count": null,
   "metadata": {},
   "outputs": [],
   "source": []
  },
  {
   "cell_type": "code",
   "execution_count": null,
   "metadata": {},
   "outputs": [],
   "source": []
  }
 ],
 "metadata": {
  "kernelspec": {
   "display_name": "Python 3",
   "language": "python",
   "name": "python3"
  },
  "language_info": {
   "codemirror_mode": {
    "name": "ipython",
    "version": 3
   },
   "file_extension": ".py",
   "mimetype": "text/x-python",
   "name": "python",
   "nbconvert_exporter": "python",
   "pygments_lexer": "ipython3",
   "version": "3.6.7"
  }
 },
 "nbformat": 4,
 "nbformat_minor": 2
}
